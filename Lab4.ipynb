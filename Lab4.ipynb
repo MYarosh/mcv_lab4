{
 "cells": [
  {
   "cell_type": "markdown",
   "id": "3681b10a-cfa6-47a0-b255-94505da26444",
   "metadata": {},
   "source": [
    "# Flowers Image Classification by InceptionV3"
   ]
  },
  {
   "cell_type": "markdown",
   "id": "03df7c4f-d8aa-4407-9e9a-da54a120bc88",
   "metadata": {},
   "source": [
    "## Загрузка библиотек"
   ]
  },
  {
   "cell_type": "code",
   "execution_count": 3,
   "id": "0f861b98-844b-44d1-9cb5-b7839247f320",
   "metadata": {},
   "outputs": [],
   "source": [
    "import os\n",
    "import numpy as np\n",
    "import matplotlib.pyplot as plt\n",
    "import pandas as pd"
   ]
  },
  {
   "cell_type": "code",
   "execution_count": 4,
   "id": "b15e878c-549f-49b4-bc52-805183d53ffc",
   "metadata": {},
   "outputs": [],
   "source": [
    "import torch\n",
    "import torchvision\n",
    "from torch import nn\n",
    "from torch.utils.data import DataLoader, random_split\n",
    "from torchvision import transforms, utils, datasets, models\n",
    "import torch.nn.functional as F\n",
    "import torch.optim as optim\n",
    "from sklearn.metrics import accuracy_score"
   ]
  },
  {
   "cell_type": "code",
   "execution_count": 5,
   "id": "984db97c-cbd5-4468-839a-b7b5a3d62343",
   "metadata": {},
   "outputs": [],
   "source": [
    "from glob import glob\n",
    "from PIL import Image\n",
    "import random"
   ]
  },
  {
   "cell_type": "markdown",
   "id": "8e79d993-3c06-4e8a-944d-6a21c968e5fd",
   "metadata": {},
   "source": [
    "Установка seed, для повторяемости результатов"
   ]
  },
  {
   "cell_type": "code",
   "execution_count": 6,
   "id": "48784a25-5ae8-49ad-90f1-0b52a6d2a88d",
   "metadata": {},
   "outputs": [],
   "source": [
    "def seed_everything(seed=656461256):\n",
    "    random.seed(seed)\n",
    "    torch.manual_seed(seed)\n",
    "    torch.cuda.manual_seed_all(seed)\n",
    "    np.random.seed(seed)\n",
    "    os.environ['PYTHONHASHSEED'] = str(seed)\n",
    "    torch.backends.cudnn.deterministic = True\n",
    "seed_everything()"
   ]
  },
  {
   "cell_type": "markdown",
   "id": "0ad5beb8-4567-47e7-a03e-d20f4c90477c",
   "metadata": {},
   "source": [
    "Устройство для запуска модели (cuda или cpu)"
   ]
  },
  {
   "cell_type": "code",
   "execution_count": 7,
   "id": "f79317a6-ea1a-4d31-b1d9-fac5458a58d8",
   "metadata": {
    "editable": true,
    "slideshow": {
     "slide_type": ""
    },
    "tags": []
   },
   "outputs": [],
   "source": [
    "device = torch.device('cuda:0' if torch.cuda.is_available() else 'cpu')"
   ]
  },
  {
   "cell_type": "markdown",
   "id": "07cf53ce-73a5-4db4-b731-64cc9a01396c",
   "metadata": {},
   "source": [
    "Загрузка модели и ее настройка"
   ]
  },
  {
   "cell_type": "code",
   "execution_count": 8,
   "id": "07c3da33-6796-4542-b78a-023c138fefd7",
   "metadata": {},
   "outputs": [
    {
     "name": "stderr",
     "output_type": "stream",
     "text": [
      "C:\\Users\\artem\\AppData\\Local\\Packages\\PythonSoftwareFoundation.Python.3.11_qbz5n2kfra8p0\\LocalCache\\local-packages\\Python311\\site-packages\\torchvision\\models\\_utils.py:208: UserWarning: The parameter 'pretrained' is deprecated since 0.13 and may be removed in the future, please use 'weights' instead.\n",
      "  warnings.warn(\n",
      "C:\\Users\\artem\\AppData\\Local\\Packages\\PythonSoftwareFoundation.Python.3.11_qbz5n2kfra8p0\\LocalCache\\local-packages\\Python311\\site-packages\\torchvision\\models\\_utils.py:223: UserWarning: Arguments other than a weight enum or `None` for 'weights' are deprecated since 0.13 and may be removed in the future. The current behavior is equivalent to passing `weights=Inception_V3_Weights.IMAGENET1K_V1`. You can also use `weights=Inception_V3_Weights.DEFAULT` to get the most up-to-date weights.\n",
      "  warnings.warn(msg)\n"
     ]
    }
   ],
   "source": [
    "# Pre-trained Inception v3 model. Image classification model, loaded with weights pre-trained on ImageNet\n",
    "inception = models.inception_v3(pretrained=True)\n",
    "\n",
    "# Замораживание параметром модели\n",
    "for param in inception.parameters():\n",
    "    param.requires_grad = False\n",
    "\n",
    "# Установка 5-ти выходных классов\n",
    "num_ftrs = inception.fc.in_features\n",
    "inception.fc = nn.Linear(num_ftrs, 5)\n",
    "\n",
    "# Подключение модели к устройсву\n",
    "inception = inception.to(device)"
   ]
  },
  {
   "cell_type": "markdown",
   "id": "8a3df150-199b-42e9-9cce-717d41df3239",
   "metadata": {},
   "source": [
    "Трансформатор изображения"
   ]
  },
  {
   "cell_type": "code",
   "execution_count": 9,
   "id": "4055f18e-bc50-486a-8035-545cc82380a6",
   "metadata": {},
   "outputs": [],
   "source": [
    "transform = transforms.Compose([\n",
    "    transforms.Resize(299),\n",
    "    transforms.CenterCrop(299),\n",
    "    transforms.ToTensor(),\n",
    "    transforms.Normalize([0.485, 0.456, 0.406], [0.229, 0.224, 0.225])\n",
    "])"
   ]
  },
  {
   "cell_type": "markdown",
   "id": "04ee2673-95b3-49e9-9fc8-f28978bb3b67",
   "metadata": {},
   "source": [
    "## Функции для обучения и валидирования модели"
   ]
  },
  {
   "cell_type": "code",
   "execution_count": 12,
   "id": "cfef9ceb-99a5-4465-abb0-811b9bc922e4",
   "metadata": {},
   "outputs": [],
   "source": [
    "def train(model, optimizer, train_loader, val_loader, n_epoch, device):\n",
    "    result = []\n",
    "    val_res = []\n",
    "\n",
    "    criterion = nn.CrossEntropyLoss()\n",
    "    for e in range(n_epoch):\n",
    "        model.train()\n",
    "        correct, total_loss = 0, 0\n",
    "        total = 0\n",
    "        \n",
    "        for sample, target in train_loader:\n",
    "            sample = sample.to(device).float()\n",
    "            target = target.to(device).long()\n",
    "            optimizer.zero_grad()\n",
    "            outputs, aux_outputs = model(sample)\n",
    "            loss1 = criterion(outputs, target)\n",
    "            loss2 = criterion(aux_outputs, target)\n",
    "            loss = loss1 + 0.4*loss2  \n",
    "            loss.backward()\n",
    "            optimizer.step()\n",
    "            total_loss += loss.item()\n",
    "            _, predicted = torch.max(outputs.data, 1)\n",
    "            total += target.size(0)\n",
    "            correct += (predicted == target).sum().item()\n",
    "\n",
    "        acc_train = 100 * correct / total\n",
    "        val_acc = valid(model, val_loader, device)\n",
    "        print(f'Epoch: [{e+1}/{n_epoch}], Loss: {total_loss / total:.4f}, Train Acc: {acc_train:.2f}, Val Acc: {val_acc:.2f}')\n",
    "        \n",
    "        result.append(acc_train)\n",
    "        val_res.append(val_acc)\n",
    "    \n",
    "    np.savetxt('result.csv', np.array(result), fmt='%.2f', delimiter=',')\n",
    "    np.savetxt('val_result.csv', np.array(val_res), fmt='%.2f', delimiter=',')\n"
   ]
  },
  {
   "cell_type": "code",
   "execution_count": 13,
   "id": "2b89e4d5-86d5-40e8-969d-c2196ea1fb4d",
   "metadata": {},
   "outputs": [],
   "source": [
    "def valid(model, val_loader, device):\n",
    "    model.eval()\n",
    "    correct = 0\n",
    "    total = 0\n",
    "    with torch.no_grad():\n",
    "        for sample, target in val_loader:\n",
    "            sample = sample.to(device).float()\n",
    "            target = target.to(device).long()\n",
    "            outputs = model(sample)\n",
    "            _, predicted = torch.max(outputs.data, 1)\n",
    "            \n",
    "            total += target.size(0)\n",
    "            correct += (predicted == target).sum().item()\n",
    "\n",
    "    val_accuracy = 100 * correct / total\n",
    "    return val_accuracy\n"
   ]
  },
  {
   "cell_type": "code",
   "execution_count": 14,
   "id": "68a1c9f3-481d-466c-a03c-d2966e0febae",
   "metadata": {},
   "outputs": [],
   "source": [
    "def plot():\n",
    "    train_data = np.loadtxt('result.csv', delimiter=',')\n",
    "    val_data = np.loadtxt('val_result.csv', delimiter=',')\n",
    "    plt.figure()\n",
    "    plt.plot(range(1, len(train_data) + 1), train_data, color='blue', label='Train')\n",
    "    plt.plot(range(1, len(val_data) + 1), val_data, color='red', label='Validation')\n",
    "    plt.legend()\n",
    "    plt.xlabel('Epoch', fontsize=14)\n",
    "    plt.ylabel('Accuracy (%)', fontsize=14)\n",
    "    plt.title('Train and Validation Accuracy', fontsize=16)\n",
    "    plt.savefig('plot.png')\n",
    "    plt.show() "
   ]
  },
  {
   "cell_type": "markdown",
   "id": "14b48b5d-17e4-4db3-aed3-b55b6826be85",
   "metadata": {},
   "source": [
    "## Загрузка тестовых и валидационных данных"
   ]
  },
  {
   "cell_type": "markdown",
   "id": "5c129a7a-14ae-4773-88da-c3060c46d084",
   "metadata": {},
   "source": [
    "Использовался Dataset: https://www.kaggle.com/datasets/alsaniipe/flowers-multiclass-datasets/data"
   ]
  },
  {
   "cell_type": "code",
   "execution_count": 10,
   "id": "c90a79df-692e-4109-9805-654a6e6ff7ad",
   "metadata": {},
   "outputs": [],
   "source": [
    "train_data = datasets.ImageFolder(root='dataset/flower_photos/train', transform=transform)\n",
    "train_loader = DataLoader(train_data, batch_size=32, shuffle=True)"
   ]
  },
  {
   "cell_type": "code",
   "execution_count": 11,
   "id": "ab9c6107-0758-436e-bf73-c54f4ca566cc",
   "metadata": {},
   "outputs": [],
   "source": [
    "val_data = datasets.ImageFolder(root='dataset/flower_photos/validation', transform=transform)\n",
    "val_loader = DataLoader(val_data, batch_size=32, shuffle=False)"
   ]
  },
  {
   "cell_type": "markdown",
   "id": "ff596229-d64e-44b2-9dc7-0661370a42ac",
   "metadata": {},
   "source": [
    "## Запуск обучения"
   ]
  },
  {
   "cell_type": "code",
   "execution_count": 15,
   "id": "b9d827a3-ebbf-48c0-ab4c-0a1863fe4169",
   "metadata": {},
   "outputs": [
    {
     "name": "stdout",
     "output_type": "stream",
     "text": [
      "Epoch: [1/10], Loss: 0.1449, Train Acc: 57.63, Val Acc: 77.50\n",
      "Epoch: [2/10], Loss: 0.1313, Train Acc: 77.99, Val Acc: 83.75\n",
      "Epoch: [3/10], Loss: 0.1272, Train Acc: 80.62, Val Acc: 88.75\n",
      "Epoch: [4/10], Loss: 0.1249, Train Acc: 82.01, Val Acc: 87.50\n",
      "Epoch: [5/10], Loss: 0.1238, Train Acc: 83.19, Val Acc: 87.50\n",
      "Epoch: [6/10], Loss: 0.1227, Train Acc: 84.18, Val Acc: 88.75\n",
      "Epoch: [7/10], Loss: 0.1221, Train Acc: 84.52, Val Acc: 91.25\n",
      "Epoch: [8/10], Loss: 0.1221, Train Acc: 84.18, Val Acc: 91.25\n",
      "Epoch: [9/10], Loss: 0.1211, Train Acc: 85.25, Val Acc: 90.00\n",
      "Epoch: [10/10], Loss: 0.1209, Train Acc: 85.51, Val Acc: 91.25\n"
     ]
    },
    {
     "data": {
      "image/png": "[encoded data removed]",
      "text/plain": [
       "<Figure size 640x480 with 1 Axes>"
      ]
     },
     "metadata": {},
     "output_type": "display_data"
    }
   ],
   "source": [
    "optimizer = optim.SGD(inception.fc.parameters(), lr=0.001, momentum=0.9)\n",
    "train(inception, optimizer, train_loader, val_loader, n_epoch=10, device=device)\n",
    "plot()"
   ]
  },
  {
   "cell_type": "markdown",
   "id": "28d6511d-4f98-4861-bfe7-fa0bfbb85875",
   "metadata": {},
   "source": [
    "# Testing"
   ]
  },
  {
   "cell_type": "code",
   "execution_count": 16,
   "id": "abd7f3e6-ef21-4eb9-ba28-d467270d3bbe",
   "metadata": {},
   "outputs": [],
   "source": [
    "test_data = datasets.ImageFolder(root='dataset/flower_photos/test' , transform=transform) \n",
    "test_dataloader = DataLoader(test_data, batch_size=64, shuffle=False)\n",
    "\n",
    "images, targets = next(iter(test_dataloader))  \n",
    "indices = np.arange(len(images))\n",
    "np.random.shuffle(indices)\n",
    "\n",
    "int_to_label = {0: 'daisy', 1: 'dandelion', 2: 'roses', 3: 'sunflowers', 4: 'tulips'}\n",
    "result = []\n",
    "\n",
    "for i, idx in enumerate(indices):\n",
    "    image = images[idx]\n",
    "    actual_target = targets[idx]\n",
    "    image_tensor = image.to(device).unsqueeze(0)\n",
    "    output = inception(image_tensor)\n",
    "    _, prediction = torch.max(output, 1)\n",
    "\n",
    "    prediction_class = prediction.cpu().item()\n",
    "    actual_class = actual_target.item()\n",
    "    \n",
    "    result.append({\n",
    "        'expected': actual_class, \n",
    "        'actual': prediction_class, \n",
    "        'filename': test_data.imgs[idx]\n",
    "    })\n"
   ]
  },
  {
   "cell_type": "code",
   "execution_count": 17,
   "id": "426c1c8e-e5a8-4436-96c4-6c90f42026f1",
   "metadata": {},
   "outputs": [
    {
     "name": "stdout",
     "output_type": "stream",
     "text": [
      "\n",
      "We have test accuracy 80.0000% after test images evaluation.\n"
     ]
    },
    {
     "data": {
      "text/html": [
       "<div>\n",
       "<style scoped>\n",
       "    .dataframe tbody tr th:only-of-type {\n",
       "        vertical-align: middle;\n",
       "    }\n",
       "\n",
       "    .dataframe tbody tr th {\n",
       "        vertical-align: top;\n",
       "    }\n",
       "\n",
       "    .dataframe thead th {\n",
       "        text-align: right;\n",
       "    }\n",
       "</style>\n",
       "<table border=\"1\" class=\"dataframe\">\n",
       "  <thead>\n",
       "    <tr style=\"text-align: right;\">\n",
       "      <th></th>\n",
       "      <th>expected</th>\n",
       "      <th>actual</th>\n",
       "      <th>filename</th>\n",
       "      <th>expected_label</th>\n",
       "      <th>actual_label</th>\n",
       "      <th>correctly</th>\n",
       "    </tr>\n",
       "  </thead>\n",
       "  <tbody>\n",
       "    <tr>\n",
       "      <th>0</th>\n",
       "      <td>0</td>\n",
       "      <td>0</td>\n",
       "      <td>(dataset/flower_photos/test\\daisy\\538920244_59...</td>\n",
       "      <td>daisy</td>\n",
       "      <td>daisy</td>\n",
       "      <td>True</td>\n",
       "    </tr>\n",
       "    <tr>\n",
       "      <th>1</th>\n",
       "      <td>0</td>\n",
       "      <td>0</td>\n",
       "      <td>(dataset/flower_photos/test\\daisy\\19813618946_...</td>\n",
       "      <td>daisy</td>\n",
       "      <td>daisy</td>\n",
       "      <td>True</td>\n",
       "    </tr>\n",
       "    <tr>\n",
       "      <th>2</th>\n",
       "      <td>3</td>\n",
       "      <td>3</td>\n",
       "      <td>(dataset/flower_photos/test\\sunflowers\\2097286...</td>\n",
       "      <td>sunflowers</td>\n",
       "      <td>sunflowers</td>\n",
       "      <td>True</td>\n",
       "    </tr>\n",
       "    <tr>\n",
       "      <th>3</th>\n",
       "      <td>3</td>\n",
       "      <td>3</td>\n",
       "      <td>(dataset/flower_photos/test\\sunflowers\\2097286...</td>\n",
       "      <td>sunflowers</td>\n",
       "      <td>sunflowers</td>\n",
       "      <td>True</td>\n",
       "    </tr>\n",
       "    <tr>\n",
       "      <th>4</th>\n",
       "      <td>1</td>\n",
       "      <td>1</td>\n",
       "      <td>(dataset/flower_photos/test\\dandelion\\57406338...</td>\n",
       "      <td>dandelion</td>\n",
       "      <td>dandelion</td>\n",
       "      <td>True</td>\n",
       "    </tr>\n",
       "  </tbody>\n",
       "</table>\n",
       "</div>"
      ],
      "text/plain": [
       "   expected  actual                                           filename  \\\n",
       "0         0       0  (dataset/flower_photos/test\\daisy\\538920244_59...   \n",
       "1         0       0  (dataset/flower_photos/test\\daisy\\19813618946_...   \n",
       "2         3       3  (dataset/flower_photos/test\\sunflowers\\2097286...   \n",
       "3         3       3  (dataset/flower_photos/test\\sunflowers\\2097286...   \n",
       "4         1       1  (dataset/flower_photos/test\\dandelion\\57406338...   \n",
       "\n",
       "  expected_label actual_label  correctly  \n",
       "0          daisy        daisy       True  \n",
       "1          daisy        daisy       True  \n",
       "2     sunflowers   sunflowers       True  \n",
       "3     sunflowers   sunflowers       True  \n",
       "4      dandelion    dandelion       True  "
      ]
     },
     "execution_count": 17,
     "metadata": {},
     "output_type": "execute_result"
    }
   ],
   "source": [
    "df = pd.DataFrame(data=result)\n",
    "\n",
    "df['expected_label'] = df['expected'].map(lambda x: int_to_label[x])\n",
    "df['actual_label'] = df['actual'].map(lambda x: int_to_label[x])\n",
    "df['correctly'] = df['expected'] == df['actual']\n",
    "\n",
    "# Вычисляем точность модели\n",
    "accuracy = accuracy_score(df['expected'], df['actual'])\n",
    "\n",
    "print(f\"\\nWe have test accuracy {accuracy * 100:.4f}% after test images evaluation.\")\n",
    "\n",
    "df.head()"
   ]
  },
  {
   "cell_type": "code",
   "execution_count": null,
   "id": "9ffe3ba7-408f-4cda-905f-b81fa8efeb42",
   "metadata": {},
   "outputs": [],
   "source": []
  }
 ],
 "metadata": {
  "kernelspec": {
   "display_name": "Python 3 (ipykernel)",
   "language": "python",
   "name": "python3"
  },
  "language_info": {
   "codemirror_mode": {
    "name": "ipython",
    "version": 3
   },
   "file_extension": ".py",
   "mimetype": "text/x-python",
   "name": "python",
   "nbconvert_exporter": "python",
   "pygments_lexer": "ipython3",
   "version": "3.11.7"
  }
 },
 "nbformat": 4,
 "nbformat_minor": 5
}
